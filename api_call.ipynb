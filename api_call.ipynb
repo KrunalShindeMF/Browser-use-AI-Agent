{
 "cells": [
  {
   "cell_type": "code",
   "execution_count": null,
   "id": "676b92e3",
   "metadata": {},
   "outputs": [],
   "source": [
    "import requests \n",
    "\n",
    "url = \"https://browser-use-ai-agent.onrender.com/run-agent\"\n",
    "payload = {\n",
    "  \"email\": \"admin@example.com\",\n",
    "  \"password\": \"admin123\",\n",
    "  \"user_query\": \"Create a product with the following details: Name: Pencil Product, SKU: TP000123, Price: 1000.0, Description: This is a test product.\"\n",
    "}\n"
   ]
  },
  {
   "cell_type": "code",
   "execution_count": null,
   "id": "87b0943b",
   "metadata": {},
   "outputs": [],
   "source": [
    "\n"
   ]
  },
  {
   "cell_type": "code",
   "execution_count": null,
   "id": "38f71751",
   "metadata": {},
   "outputs": [],
   "source": [
    "response = requests.post(url=url, payload=payload)"
   ]
  },
  {
   "cell_type": "code",
   "execution_count": null,
   "id": "1f778a90",
   "metadata": {},
   "outputs": [],
   "source": []
  },
  {
   "cell_type": "code",
   "execution_count": null,
   "id": "6e749b06",
   "metadata": {},
   "outputs": [],
   "source": []
  },
  {
   "cell_type": "code",
   "execution_count": null,
   "id": "c0c76260",
   "metadata": {},
   "outputs": [],
   "source": []
  },
  {
   "cell_type": "code",
   "execution_count": null,
   "id": "24c4c65d",
   "metadata": {},
   "outputs": [],
   "source": []
  }
 ],
 "metadata": {
  "kernelspec": {
   "display_name": "venv",
   "language": "python",
   "name": "python3"
  },
  "language_info": {
   "codemirror_mode": {
    "name": "ipython",
    "version": 3
   },
   "file_extension": ".py",
   "mimetype": "text/x-python",
   "name": "python",
   "nbconvert_exporter": "python",
   "pygments_lexer": "ipython3",
   "version": "3.13.3"
  }
 },
 "nbformat": 4,
 "nbformat_minor": 5
}
